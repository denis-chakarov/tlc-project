{
  "nbformat": 4,
  "nbformat_minor": 0,
  "metadata": {
    "colab": {
      "name": "TLC_Project.ipynb",
      "provenance": [],
      "collapsed_sections": [],
      "include_colab_link": true
    },
    "kernelspec": {
      "name": "python3",
      "display_name": "Python 3"
    }
  },
  "cells": [
    {
      "cell_type": "markdown",
      "metadata": {
        "id": "view-in-github",
        "colab_type": "text"
      },
      "source": [
        "<a href=\"https://colab.research.google.com/github/denis-chakarov/tlc-project/blob/master/TLC_Project.ipynb\" target=\"_parent\"><img src=\"https://colab.research.google.com/assets/colab-badge.svg\" alt=\"Open In Colab\"/></a>"
      ]
    },
    {
      "cell_type": "code",
      "metadata": {
        "id": "dkH2KRy3cY-r"
      },
      "source": [
        "import numpy as np"
      ],
      "execution_count": null,
      "outputs": []
    },
    {
      "cell_type": "code",
      "metadata": {
        "id": "eF6Mibpnqp4f"
      },
      "source": [
        "class TrafficLightNetworkEnv():\r\n",
        "    \"\"\"\r\n",
        "    Gym style environment for RL. You may also inherit the class structure from OpenAI Gym. \r\n",
        "    Parameters:\r\n",
        "        n_time_steps:   int\r\n",
        "                        Total number of time steps within each episode\r\n",
        "        seed:   int\r\n",
        "                seed of the RNG (for reproducibility)\r\n",
        "    \"\"\"\r\n",
        "    \r\n",
        "    def __init__(self, n_time_steps, n_traffic_nodes, n_tl_queue_places, n_initial_cars, seed):\r\n",
        "        \"\"\"\r\n",
        "        Initialize the environment.\r\n",
        "        \r\n",
        "        \"\"\"\r\n",
        "        \r\n",
        "        self.n_time_steps = n_time_steps\r\n",
        "        self.n_traffic_nodes = n_traffic_nodes\r\n",
        "        self.n_traffic_lights = n_traffic_nodes*8\r\n",
        "        self.n_initial_cars = n_initial_cars\r\n",
        "        self.n_tl_queue_places = n_tl_queue_places\r\n",
        "        \r\n",
        "        if n_traffic_nodes == 1:\r\n",
        "          self.n_destinations = 4\r\n",
        "        elif n_traffic_nodes == 2:\r\n",
        "          self.n_destinations = 6\r\n",
        "        elif n_traffic_nodes == 4:\r\n",
        "          self.n_destinations = 8\r\n",
        "        elif n_traffic_nodes == 6:\r\n",
        "          self.n_destinations = 10\r\n",
        "\r\n",
        "        self.traffic_nodes = {} # a dictionary to hold array of traffic light ids, where the key is id\r\n",
        "        self.traffic_lights = {} # a dictionary of tuples (tl_state, queue_occupied_places), where the key is id\r\n",
        "        self.cars = {} # a dictionary of tuples (entrance, destination, current_tl_id, current_queue_place, current_route_step, [route]). where key is id\r\n",
        "\r\n",
        "        ### define action space variables\r\n",
        "        # car agent actions\r\n",
        "        self.car_actions = np.array([0,1,2]) # [go straight, turn left, turn right]\r\n",
        "\r\n",
        "        # traffic node (intersection) agent actions        \r\n",
        "        self.intersection_actions = np.array([0,1,2,3,4,5]) # [south-north, east-west, south, north, east, west]\r\n",
        "        \r\n",
        "        ### define state space variables\r\n",
        "        # state space is defined by each car with values [tl, place, des]\r\n",
        "                \r\n",
        "        self.set_seed(seed)\r\n",
        "        self.set_route_map()\r\n",
        "        self.reset()\r\n",
        "        \r\n",
        "    \r\n",
        "    def step(self, action):\r\n",
        "        \"\"\"\r\n",
        "        Interface between environment and agent. Performs one step in the environemnt.\r\n",
        "        Parameters:\r\n",
        "            action: int\r\n",
        "                    the index of the respective action in the action array\r\n",
        "        Returns:\r\n",
        "            output: ( object, float, bool)\r\n",
        "                    information provided by the environment about its current state:\r\n",
        "                    (state, reward, done)\r\n",
        "        \"\"\"\r\n",
        "\r\n",
        "        pass\r\n",
        "\r\n",
        "        return self.state, reward, done\r\n",
        "\r\n",
        "    \r\n",
        "    \r\n",
        "    def set_seed(self,seed=0):\r\n",
        "        \"\"\"\r\n",
        "        Sets the seed of the RNG.\r\n",
        "        \r\n",
        "        \"\"\"\r\n",
        "        np.random.seed(seed)\r\n",
        "    \r\n",
        "    \r\n",
        "    \r\n",
        "    def reset(self):\r\n",
        "        \"\"\"\r\n",
        "        Resets the environment to its initial values.\r\n",
        "        Returns:\r\n",
        "            state:  object\r\n",
        "                    the initial state of the environment\r\n",
        "        \"\"\"\r\n",
        "        self.current_step = 0\r\n",
        "\r\n",
        "        ### re-create nodes\r\n",
        "        self.traffic_nodes = {}\r\n",
        "        for i in range(0, self.n_traffic_nodes):\r\n",
        "          self.traffic_nodes[i+1] = [k for k in range(i*8+1, i*8+1 + 8)]\r\n",
        "\r\n",
        "        ### initialize traffic lights - all red\r\n",
        "        self.traffic_lights = {}\r\n",
        "        for i in range(1, self.n_traffic_lights+1):\r\n",
        "          self.traffic_lights[i] = ('red', 0)\r\n",
        "\r\n",
        "        ### place randomly cars in the network\r\n",
        "        self.cars = {}\r\n",
        "        i=1\r\n",
        "        s = set()\r\n",
        "        while i<=self.n_initial_cars:\r\n",
        "          # a car is defined by (entrance, destination, current_tl_id, current_queue_place, current_route_step, [route])\r\n",
        "          ent_des = np.random.choice(range(1, self.n_destinations+1), 2, replace=False)\r\n",
        "          route = self.get_route(ent_des[0], ent_des[1])\r\n",
        "          tl = route[0]\r\n",
        "          place = np.random.randint(1, self.n_tl_queue_places)          \r\n",
        "          car = (ent_des[0],\r\n",
        "                 ent_des[1],\r\n",
        "                 tl,\r\n",
        "                 place,\r\n",
        "                 0,\r\n",
        "                 route\r\n",
        "                 )\r\n",
        "          # discard cars at duplicate places\r\n",
        "          if not (tl, place) in s:\r\n",
        "            s.add((tl, place))\r\n",
        "            self.cars[i] = car\r\n",
        "            self.traffic_lights[tl] = (self.traffic_lights[tl][0], self.traffic_lights[tl][1] + 1)\r\n",
        "            i=i+1\r\n",
        "        \r\n",
        "        self.state = self.extract_state()\r\n",
        "\r\n",
        "        return self.state\r\n",
        "    \r\n",
        "    def render(self):\r\n",
        "        \"\"\"\r\n",
        "        Plots the state of the environment. For visulization purposes only. \r\n",
        "\r\n",
        "        \"\"\"\r\n",
        "        pass\r\n",
        "    \r\n",
        "    def set_route_map(self):\r\n",
        "        \"\"\"\r\n",
        "        Creates and stores all possible routes in the network. A route consists of a list of traffic light ids.\r\n",
        "        \"\"\"\r\n",
        "        self.route_map = {}\r\n",
        "\r\n",
        "        if(self.n_traffic_nodes == 2): # 6 network exits\r\n",
        "          self.route_map[(1,2)] = [2]\r\n",
        "          self.route_map[(1,3)] = [1,10]\r\n",
        "          self.route_map[(1,4)] = [1,9]\r\n",
        "          self.route_map[(1,5)] = [1,9]\r\n",
        "          self.route_map[(1,6)] = [1]\r\n",
        "\r\n",
        "          self.route_map[(2,1)] = [3]\r\n",
        "          self.route_map[(2,3)] = [4,10]\r\n",
        "          self.route_map[(2,4)] = [4,9]\r\n",
        "          self.route_map[(2,5)] = [4,9]\r\n",
        "          self.route_map[(2,6)] = [3]\r\n",
        "\r\n",
        "          self.route_map[(3,1)] = [11,5]\r\n",
        "          self.route_map[(3,2)] = [11,5]\r\n",
        "          self.route_map[(3,4)] = [12]\r\n",
        "          self.route_map[(3,5)] = [11]\r\n",
        "          self.route_map[(3,6)] = [11,6]\r\n",
        "\r\n",
        "          self.route_map[(4,1)] = [13,5]\r\n",
        "          self.route_map[(4,2)] = [13,5]\r\n",
        "          self.route_map[(4,3)] = [13]\r\n",
        "          self.route_map[(4,5)] = [14]\r\n",
        "          self.route_map[(4,6)] = [13,6]\r\n",
        "\r\n",
        "          self.route_map[(5,1)] = [16,5]\r\n",
        "          self.route_map[(5,2)] = [16,5]\r\n",
        "          self.route_map[(5,3)] = [15]\r\n",
        "          self.route_map[(5,4)] = [15]\r\n",
        "          self.route_map[(5,6)] = [16,6]\r\n",
        "\r\n",
        "          self.route_map[(6,1)] = [8]\r\n",
        "          self.route_map[(6,2)] = [7]\r\n",
        "          self.route_map[(6,3)] = [7,10]\r\n",
        "          self.route_map[(6,4)] = [7,9]\r\n",
        "          self.route_map[(6,5)] = [7,9]\r\n",
        "    \r\n",
        "    def get_route(self, entrance, destination):\r\n",
        "        \"\"\"\r\n",
        "        Provides the route from entrance to destination in the network(city). A route consists of a list of traffic light ids.\r\n",
        "        Returns:\r\n",
        "          output: list of routes\r\n",
        "        \"\"\"\r\n",
        "        return self.route_map[(entrance, destination)]\r\n",
        "\r\n",
        "\r\n",
        "    def extract_state(self):\r\n",
        "      \"\"\"\r\n",
        "      Extracts the state from self.cars\r\n",
        "      Returns:\r\n",
        "          state:  object\r\n",
        "                  the state of the environment\r\n",
        "      \"\"\"      \r\n",
        "      state = []\r\n",
        "      for k in self.cars:\r\n",
        "        car = self.cars[k]\r\n",
        "        state.append((car[2], car[3], car[1]))\r\n",
        "\r\n",
        "      return state\r\n",
        "    "
      ],
      "execution_count": null,
      "outputs": []
    },
    {
      "cell_type": "code",
      "metadata": {
        "id": "DPNdf2sNilqq",
        "colab": {
          "base_uri": "https://localhost:8080/"
        },
        "outputId": "ae07d3d1-d120-4f94-e65d-d0ce52026601"
      },
      "source": [
        "env = TrafficLightNetworkEnv(n_time_steps=1, n_traffic_nodes=2, n_tl_queue_places=20, n_initial_cars=20, seed=1)\r\n",
        "print(env.traffic_nodes)\r\n",
        "print(env.state)"
      ],
      "execution_count": null,
      "outputs": [
        {
          "output_type": "stream",
          "text": [
            "{1: [1, 2, 3, 4, 5, 6, 7, 8], 2: [9, 10, 11, 12, 13, 14, 15, 16]}\n",
            "[(11, 10, 2), (11, 8, 6), (13, 6, 1), (3, 15, 6), (1, 1, 6), (11, 2, 1), (13, 14, 3), (7, 8, 5), (7, 18, 3), (3, 14, 6), (16, 16, 6), (14, 10, 5), (1, 7, 3), (7, 15, 5), (15, 14, 3), (7, 7, 3), (13, 8, 6), (11, 5, 2), (13, 19, 3), (16, 8, 2)]\n"
          ],
          "name": "stdout"
        }
      ]
    },
    {
      "cell_type": "code",
      "metadata": {
        "colab": {
          "base_uri": "https://localhost:8080/"
        },
        "id": "WhMU9ScFj57W",
        "outputId": "8fe5744b-214b-4459-c2e6-278295d564e8"
      },
      "source": [
        "env.traffic_lights"
      ],
      "execution_count": null,
      "outputs": [
        {
          "output_type": "execute_result",
          "data": {
            "text/plain": [
              "{1: ('red', 2),\n",
              " 2: ('red', 0),\n",
              " 3: ('red', 2),\n",
              " 4: ('red', 0),\n",
              " 5: ('red', 0),\n",
              " 6: ('red', 0),\n",
              " 7: ('red', 4),\n",
              " 8: ('red', 0),\n",
              " 9: ('red', 0),\n",
              " 10: ('red', 0),\n",
              " 11: ('red', 4),\n",
              " 12: ('red', 0),\n",
              " 13: ('red', 4),\n",
              " 14: ('red', 1),\n",
              " 15: ('red', 1),\n",
              " 16: ('red', 2)}"
            ]
          },
          "metadata": {
            "tags": []
          },
          "execution_count": 4
        }
      ]
    },
    {
      "cell_type": "code",
      "metadata": {
        "colab": {
          "base_uri": "https://localhost:8080/"
        },
        "id": "kMF6JVtrj7uR",
        "outputId": "cbc8c9ee-2bee-4da1-9f86-88a8e2409c8b"
      },
      "source": [
        "env.cars"
      ],
      "execution_count": null,
      "outputs": [
        {
          "output_type": "execute_result",
          "data": {
            "text/plain": [
              "{1: (3, 2, 11, 10, 0, [11, 5]),\n",
              " 2: (3, 6, 11, 8, 0, [11, 6]),\n",
              " 3: (4, 1, 13, 6, 0, [13, 5]),\n",
              " 4: (2, 6, 3, 15, 0, [3]),\n",
              " 5: (1, 6, 1, 1, 0, [1]),\n",
              " 6: (3, 1, 11, 2, 0, [11, 5]),\n",
              " 7: (4, 3, 13, 14, 0, [13]),\n",
              " 8: (6, 5, 7, 8, 0, [7, 9]),\n",
              " 9: (6, 3, 7, 18, 0, [7, 10]),\n",
              " 10: (2, 6, 3, 14, 0, [3]),\n",
              " 11: (5, 6, 16, 16, 0, [16, 6]),\n",
              " 12: (4, 5, 14, 10, 0, [14]),\n",
              " 13: (1, 3, 1, 7, 0, [1, 10]),\n",
              " 14: (6, 5, 7, 15, 0, [7, 9]),\n",
              " 15: (5, 3, 15, 14, 0, [15]),\n",
              " 16: (6, 3, 7, 7, 0, [7, 10]),\n",
              " 17: (4, 6, 13, 8, 0, [13, 6]),\n",
              " 18: (3, 2, 11, 5, 0, [11, 5]),\n",
              " 19: (4, 3, 13, 19, 0, [13]),\n",
              " 20: (5, 2, 16, 8, 0, [16, 5])}"
            ]
          },
          "metadata": {
            "tags": []
          },
          "execution_count": 5
        }
      ]
    }
  ]
}